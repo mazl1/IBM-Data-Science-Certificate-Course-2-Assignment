{"cells":[{"cell_type":"markdown","metadata":{},"source":["<center>\n","    <img src=\"https://cf-courses-data.s3.us.cloud-object-storage.appdomain.cloud/IBMDeveloperSkillsNetwork-DS0105EN-SkillsNetwork/labs/Module2/images/SN_web_lightmode.png\" width=\"300\" alt=\"cognitiveclass.ai logo\"  />\n","</center>\n"]},{"cell_type":"markdown","metadata":{},"source":["#### Add your code below following the instructions given in the course\n"]},{"cell_type":"code","execution_count":null,"metadata":{},"outputs":[],"source":[]}],"metadata":{"kernelspec":{"display_name":"Python 3","language":"python","name":"python3"},"language_info":{"codemirror_mode":{"name":"ipython","version":3},"file_extension":".py","mimetype":"text/x-python","name":"python","nbconvert_exporter":"python","pygments_lexer":"ipython3","version":"3.7.6"}},"nbformat":4,"nbformat_minor":4}
{
 "cells": [
  {
   "cell_type": "markdown",
   "id": "1273f1db",
   "metadata": {},
   "source": [
    "# My Jupyter Notebook on IBM Watson Studio"
   ]
  },
  {
   "cell_type": "markdown",
   "id": "fd967e05",
   "metadata": {},
   "source": [
    "**Marcel Schröder**\n",
    "<br>Current Occupation: Productmanager\n",
    "<br>Desired Occupation: Data Scientist"
   ]
  },
  {
   "cell_type": "markdown",
   "id": "0cd89a9a",
   "metadata": {},
   "source": [
    "*I am interested in Data Science because i want to learn how to analyze Data and how to present specific recommendations on how to run a business. Not at least the part of coding always has been interesting to me.*"
   ]
  },
  {
   "cell_type": "markdown",
   "id": "f04d2e9b",
   "metadata": {},
   "source": [
    "### My code in Cell 5 is supposed to calculate 1 + 2"
   ]
  },
  {
   "cell_type": "code",
   "execution_count": 1,
   "id": "1789e890",
   "metadata": {},
   "outputs": [
    {
     "name": "stdout",
     "output_type": "stream",
     "text": [
      "3\n"
     ]
    }
   ],
   "source": [
    "print(1+2)"
   ]
  },
  {
   "cell_type": "markdown",
   "id": "dcc48ac1",
   "metadata": {},
   "source": [
    "- test 1\n",
    "- test 2\n",
    "- test 3\n",
    "***\n",
    "__[Homepage FC Augsburg](https://www.fcaugsburg.de/)__\n",
    "\n",
    "***\n",
    "1. Test\n",
    "    1. Test\n",
    "    1. Test\n",
    "1. Test "
   ]
  }
 ],
 "metadata": {
  "kernelspec": {
   "display_name": "Python 3 (ipykernel)",
   "language": "python",
   "name": "python3"
  },
  "language_info": {
   "codemirror_mode": {
    "name": "ipython",
    "version": 3
   },
   "file_extension": ".py",
   "mimetype": "text/x-python",
   "name": "python",
   "nbconvert_exporter": "python",
   "pygments_lexer": "ipython3",
   "version": "3.11.1"
  }
 },
 "nbformat": 4,
 "nbformat_minor": 5
}
